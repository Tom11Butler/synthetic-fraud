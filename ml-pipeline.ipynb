{
 "cells": [
  {
   "cell_type": "markdown",
   "id": "f63163f1-e2f7-4a3a-ad30-152f3134308e",
   "metadata": {
    "tags": []
   },
   "source": [
    "# ML Pipeline"
   ]
  },
  {
   "cell_type": "code",
   "execution_count": 26,
   "id": "801d5aca-f4c3-4fb3-b39e-e1b8379b84d6",
   "metadata": {},
   "outputs": [],
   "source": [
    "import pandas as pd\n",
    "\n",
    "from fraud.config.config import PARAMS\n",
    "from fraud.config.features import FEATURES\n",
    "\n",
    "from fraud.steps.DataFetchStep import DataFetchStep\n",
    "from fraud.steps.PreProcessStep import PreProcessStep\n",
    "\n",
    "from sklearn.model_selection import train_test_split\n",
    "from sklearn.ensemble import RandomForestClassifier\n",
    "from sklearn.metrics import (plot_confusion_matrix\n",
    "                             , confusion_matrix\n",
    "                             , classification_report)"
   ]
  },
  {
   "cell_type": "code",
   "execution_count": 2,
   "id": "7fede690-ef1d-47d7-a825-062ef33359ce",
   "metadata": {},
   "outputs": [],
   "source": [
    "data_fetch_step = DataFetchStep(FEATURES['numerical_columns']\n",
    "                                , FEATURES['categorical_columns'])"
   ]
  },
  {
   "cell_type": "code",
   "execution_count": 3,
   "id": "123fe329-4123-464a-abca-451c057963d7",
   "metadata": {},
   "outputs": [],
   "source": [
    "df = data_fetch_step.fetch_data(PARAMS['input_data'])"
   ]
  },
  {
   "cell_type": "code",
   "execution_count": 19,
   "id": "0f069034-215f-4fde-a76c-fae2714d6a13",
   "metadata": {},
   "outputs": [],
   "source": [
    "preprocess_step = PreProcessStep(\n",
    "    FEATURES['numerical_columns']\n",
    "    , FEATURES['categorical_columns']\n",
    ")"
   ]
  },
  {
   "cell_type": "code",
   "execution_count": 20,
   "id": "64f196b2-eb65-4224-9a00-a8b99eff2e2a",
   "metadata": {},
   "outputs": [],
   "source": [
    "X = df[FEATURES['numerical_columns']+FEATURES['categorical_columns']]\n",
    "y = df[FEATURES['label_column']]"
   ]
  },
  {
   "cell_type": "code",
   "execution_count": 21,
   "id": "7cd9ceb3-f084-498c-9e5b-0f4f0e9c729a",
   "metadata": {},
   "outputs": [],
   "source": [
    "X_train, X_test, y_train, y_test = train_test_split(X,y, test_size=0.2)"
   ]
  },
  {
   "cell_type": "code",
   "execution_count": 22,
   "id": "583abfc2-aec6-4b0c-be2e-b05c34483bbc",
   "metadata": {},
   "outputs": [],
   "source": [
    "X_train = preprocess_step.fit_and_transform(X_train)"
   ]
  },
  {
   "cell_type": "markdown",
   "id": "2941aa2d-eb7f-4b84-9be6-134f7c210184",
   "metadata": {
    "tags": []
   },
   "source": [
    "## Base sklearn"
   ]
  },
  {
   "cell_type": "code",
   "execution_count": 16,
   "id": "bac4b949-7ac7-428a-95b3-6e6f25b6f2e2",
   "metadata": {},
   "outputs": [
    {
     "data": {
      "text/plain": [
       "<sklearn.metrics._plot.confusion_matrix.ConfusionMatrixDisplay at 0x19b1cd580>"
      ]
     },
     "execution_count": 16,
     "metadata": {},
     "output_type": "execute_result"
    },
    {
     "data": {
      "image/png": "[encoded data removed]",
      "text/plain": [
       "<Figure size 432x288 with 2 Axes>"
      ]
     },
     "metadata": {
      "needs_background": "light"
     },
     "output_type": "display_data"
    }
   ],
   "source": [
    "clf = RandomForestClassifier()\n",
    "clf.fit(X_train, y_train)\n",
    "\n",
    "X_test = preprocess_step.transform(X_test)\n",
    "y_pred = clf.predict(X_test)\n",
    "\n",
    "plot_confusion_matrix(clf, X_test, y_test)"
   ]
  },
  {
   "cell_type": "markdown",
   "id": "20f6e7b9-35b9-4eb5-a5ce-7f488fb7ece2",
   "metadata": {},
   "source": [
    "## imblearn"
   ]
  },
  {
   "cell_type": "code",
   "execution_count": 12,
   "id": "056d0872-c2ad-4934-bffd-8d2ace1864a9",
   "metadata": {},
   "outputs": [
    {
     "data": {
      "text/plain": [
       "(6362620, 6)"
      ]
     },
     "execution_count": 12,
     "metadata": {},
     "output_type": "execute_result"
    }
   ],
   "source": [
    "X.shape"
   ]
  },
  {
   "cell_type": "code",
   "execution_count": 8,
   "id": "23fcf55a-e0b2-4e42-9b28-8120c4fe3b5f",
   "metadata": {},
   "outputs": [],
   "source": [
    "from imblearn.over_sampling import RandomOverSampler, SMOTE, ADASYN"
   ]
  },
  {
   "cell_type": "code",
   "execution_count": null,
   "id": "0dd39291-6a67-47ee-9340-a30ad0722a0a",
   "metadata": {},
   "outputs": [],
   "source": [
    "resample_method = \"random\""
   ]
  },
  {
   "cell_type": "code",
   "execution_count": 23,
   "id": "43f5c017-2c2b-41e1-b9d6-48ddb45358ad",
   "metadata": {},
   "outputs": [],
   "source": [
    "X_train_resampled, y_train_resampled = RandomOverSampler().fit_resample(X_train, y_train)"
   ]
  },
  {
   "cell_type": "code",
   "execution_count": 27,
   "id": "44c5eb95-e088-45bb-8898-8495c7f94457",
   "metadata": {},
   "outputs": [
    {
     "data": {
      "text/plain": [
       "<sklearn.metrics._plot.confusion_matrix.ConfusionMatrixDisplay at 0x19f5e7190>"
      ]
     },
     "execution_count": 27,
     "metadata": {},
     "output_type": "execute_result"
    },
    {
     "data": {
      "image/png": "[encoded data removed]",
      "text/plain": [
       "<Figure size 432x288 with 2 Axes>"
      ]
     },
     "metadata": {
      "needs_background": "light"
     },
     "output_type": "display_data"
    }
   ],
   "source": [
    "clf = RandomForestClassifier()\n",
    "clf.fit(X_train_resampled, y_train_resampled)\n",
    "\n",
    "X_test = preprocess_step.transform(X_test)\n",
    "# y_pred = clf.predict(X_test)\n",
    "\n",
    "plot_confusion_matrix(clf, X_test, y_test)"
   ]
  },
  {
   "cell_type": "code",
   "execution_count": null,
   "id": "8934c4d7-5045-465a-891f-af6531bbe23e",
   "metadata": {},
   "outputs": [],
   "source": []
  }
 ],
 "metadata": {
  "kernelspec": {
   "display_name": "jupyter-lab",
   "language": "python",
   "name": "jupyter-lab"
  },
  "language_info": {
   "codemirror_mode": {
    "name": "ipython",
    "version": 3
   },
   "file_extension": ".py",
   "mimetype": "text/x-python",
   "name": "python",
   "nbconvert_exporter": "python",
   "pygments_lexer": "ipython3",
   "version": "3.9.2"
  }
 },
 "nbformat": 4,
 "nbformat_minor": 5
}
