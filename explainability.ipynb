{
 "cells": [
  {
   "cell_type": "markdown",
   "id": "f63163f1-e2f7-4a3a-ad30-152f3134308e",
   "metadata": {
    "tags": []
   },
   "source": [
    "# Explainability Pipeline"
   ]
  },
  {
   "cell_type": "code",
   "execution_count": null,
   "id": "801d5aca-f4c3-4fb3-b39e-e1b8379b84d6",
   "metadata": {},
   "outputs": [],
   "source": [
    "import pandas as pd\n",
    "import shap\n",
    "from joblib import load\n",
    "\n",
    "from sklearn.model_selection import train_test_split\n",
    "\n",
    "from fraud.config.config import PARAMS\n",
    "from fraud.config.features import FEATURES\n",
    "\n",
    "from fraud.steps.DataFetchStep import DataFetchStep\n",
    "from fraud.steps.PreProcessStep import PreProcessStep\n",
    "from fraud.steps.ExplainerStep import ExplainerStep"
   ]
  },
  {
   "cell_type": "code",
   "execution_count": null,
   "id": "652dbd3e-963f-4738-9a2b-caca67322c81",
   "metadata": {},
   "outputs": [],
   "source": [
    "clf = load('imblearn-random-forest.joblib') "
   ]
  },
  {
   "cell_type": "code",
   "execution_count": null,
   "id": "b20ded29-0af6-4618-b513-46c7d1364c7d",
   "metadata": {},
   "outputs": [],
   "source": [
    "data_fetch_step = DataFetchStep(FEATURES['numerical_columns']\n",
    "                                , FEATURES['categorical_columns'])\n",
    "\n",
    "df = data_fetch_step.fetch_data(PARAMS['input_data'])"
   ]
  },
  {
   "cell_type": "code",
   "execution_count": null,
   "id": "b2136a4a-b242-4d1f-a4c9-2d1615333637",
   "metadata": {},
   "outputs": [],
   "source": [
    "X = df[FEATURES['numerical_columns']+FEATURES['categorical_columns']]\n",
    "y = df[FEATURES['label_column']]\n",
    "\n",
    "X_train, X_test, y_train, y_test = train_test_split(X,y, test_size=0.2)"
   ]
  },
  {
   "cell_type": "code",
   "execution_count": null,
   "id": "3af4de31-45a6-4080-a56a-a41122c384c5",
   "metadata": {},
   "outputs": [],
   "source": [
    "preprocess_step = PreProcessStep(\n",
    "    FEATURES['numerical_columns']\n",
    "    , FEATURES['categorical_columns']\n",
    ")\n",
    "\n",
    "X_train = preprocess_step.fit_transform(X_train)\n",
    "X_test = preprocess_step.transform(X_test)"
   ]
  },
  {
   "cell_type": "code",
   "execution_count": null,
   "id": "2626100d-be38-4209-b9f4-e55632b8ea04",
   "metadata": {},
   "outputs": [],
   "source": [
    "# Create Tree Explainer object that can calculate shap values\n",
    "explainer = shap.TreeExplainer(clf)"
   ]
  },
  {
   "cell_type": "code",
   "execution_count": null,
   "id": "29ee92e0-0ca9-4957-9547-660e70054330",
   "metadata": {},
   "outputs": [],
   "source": [
    "explainer_step = ExplainerStep(explainer\n",
    "                               , preprocess_step._pipeline.named_transformers_\n",
    "                               , (preprocess_step._numerical_columns\n",
    "                                  + preprocess_step._encoded_categorical_columns)\n",
    "                              )"
   ]
  },
  {
   "cell_type": "markdown",
   "id": "f0c9477c-72ca-4f48-a7ea-0a8352b85808",
   "metadata": {},
   "source": [
    "Make predictions and pass to the explainer step object. Use the explainer step object to show the most important features for an example TP, FP, TN and FN prediction."
   ]
  },
  {
   "cell_type": "code",
   "execution_count": null,
   "id": "f879a8b6-980a-48ee-b51d-0e6e3abfc92b",
   "metadata": {},
   "outputs": [],
   "source": [
    "# set a threshold of probability for a prediction to be labelled as positive\n",
    "threshold=0.7"
   ]
  },
  {
   "cell_type": "code",
   "execution_count": null,
   "id": "9453f099-9d8e-4f3a-9fca-e0a0f3c2c447",
   "metadata": {},
   "outputs": [],
   "source": [
    "y_pred = clf.predict_proba(X_test)\n",
    "df_pred = pd.DataFrame(zip(y_test, y_pred[:,1]), columns=['true','proba'])\n",
    "df_pred['pred'] = df_pred['proba'].apply(lambda x: 1 if x>threshold else 0)"
   ]
  },
  {
   "cell_type": "code",
   "execution_count": null,
   "id": "51147f3b-4d4e-4525-bbff-915d8a6ebe66",
   "metadata": {},
   "outputs": [],
   "source": [
    "explainer_step.report_tp_fp_tn_fs_explanations(df_pred, X_test)"
   ]
  }
 ],
 "metadata": {
  "kernelspec": {
   "display_name": "fraud_dev",
   "language": "python",
   "name": "fraud_dev"
  },
  "language_info": {
   "codemirror_mode": {
    "name": "ipython",
    "version": 3
   },
   "file_extension": ".py",
   "mimetype": "text/x-python",
   "name": "python",
   "nbconvert_exporter": "python",
   "pygments_lexer": "ipython3",
   "version": "3.8.11"
  }
 },
 "nbformat": 4,
 "nbformat_minor": 5
}
